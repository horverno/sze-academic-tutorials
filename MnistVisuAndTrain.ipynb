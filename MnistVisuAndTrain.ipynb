{
 "cells": [
  {
   "cell_type": "markdown",
   "metadata": {
    "deletable": true,
    "editable": true
   },
   "source": [
    "# TensorFlow MNIST visualization\n",
    "# TensorFlow MNIST vizualizáció (in hungarian)\n",
    "\n",
    "This is just a visulalization help to understand neural nets and Tensorflow better. More detailed (and better) tutorials are avaiable:\n",
    "Csak a vizualizációs a pontsabb neural net és Tensorflow megértés segítésére. Részletesebb (és jobb) leírások elérhetőek:\n",
    "\n",
    "https://www.tensorflow.org/get_started/mnist/beginners\n",
    "\n",
    "https://codelabs.developers.google.com/codelabs/cloud-tensorflow-mnist\n",
    "\n",
    "## Először is importáljuk a szükséges libraryt, olvassuk be az MNIST adatbázist  \n"
   ]
  },
  {
   "cell_type": "code",
   "execution_count": 1,
   "metadata": {
    "collapsed": false,
    "deletable": true,
    "editable": true
   },
   "outputs": [
    {
     "name": "stdout",
     "output_type": "stream",
     "text": [
      "Extracting MNIST_data/train-images-idx3-ubyte.gz\n",
      "Extracting MNIST_data/train-labels-idx1-ubyte.gz\n",
      "Extracting MNIST_data/t10k-images-idx3-ubyte.gz\n",
      "Extracting MNIST_data/t10k-labels-idx1-ubyte.gz\n"
     ]
    }
   ],
   "source": [
    "import tensorflow as tf\n",
    "import matplotlib.pyplot as plt\n",
    "%matplotlib inline\n",
    "import numpy as np\n",
    "from tensorflow.examples.tutorials.mnist import input_data\n",
    "mnist = input_data.read_data_sets(\"MNIST_data/\", one_hot=True)"
   ]
  },
  {
   "cell_type": "markdown",
   "metadata": {
    "deletable": true,
    "editable": true
   },
   "source": [
    "## Az MNIST felderítése\n",
    "\n",
    "A beolvasott MNIST adatbázis train, test és validation dataseteket tartalmaz. A `train.images` például 55000 x 786 elemű, mivel 55000 kép 28 x 28 as felbontásban található benne. Ezt kiírathatjuk így pl:\n",
    "```python\n",
    "print(mnist.train.images.shape)\n",
    "```\n",
    "Pl a `train.labels` one-hot módon mutatja, hogy milyen számot ismerünk fel épp.\n",
    "\n",
    "A `reshape` használlható a 784 elemű vektor 28 x 28 pixeles újrafrmálásához. Pl a `images[1220,:]` az 1220. képet választja ki a már ismert kettősont (`:`) operátorral. Megjelenítéshez használjuk a `matplotlib` `imshow` funkcióját. A `cmap` a color map-ot jelöli.  \n"
   ]
  },
  {
   "cell_type": "code",
   "execution_count": 2,
   "metadata": {
    "collapsed": false,
    "deletable": true,
    "editable": true
   },
   "outputs": [
    {
     "name": "stdout",
     "output_type": "stream",
     "text": [
      "Dimension: (55000, 784)\n",
      "One-hot label: [ 0.  0.  0.  0.  1.  0.  0.  0.  0.  0.]\n"
     ]
    },
    {
     "data": {
      "image/png": "[encoded data removed]",
      "text/plain": [
       "<matplotlib.figure.Figure at 0x2b03df1af28>"
      ]
     },
     "metadata": {},
     "output_type": "display_data"
    },
    {
     "name": "stdout",
     "output_type": "stream",
     "text": [
      "Max: 1.00\n",
      "Min: 0.00\n"
     ]
    }
   ],
   "source": [
    "print(\"Dimension: \", end=\"\"), print(mnist.train.images.shape)\n",
    "print(\"One-hot label: \", end=\"\"), print(mnist.train.labels[1220,:])\n",
    "Img4 = np.reshape(mnist.train.images[1220,:], (28,28))\n",
    "plt.imshow(Img4, cmap = \"Greys\")\n",
    "plt.colorbar()\n",
    "plt.show()\n",
    "print(\"Max: {:0.2f}\\nMin: {:0.2f}\".format(Img4.max(), Img4.min()))\n",
    "\n",
    "Img0 = np.reshape(mnist.train.images[1228,:], (28,28))\n",
    "# plt.imshow(Img0, cmap = \"Greys\"), plt.colorbar(), plt.show()\n",
    "Img7 = np.reshape(mnist.train.images[54842,:], (28,28))\n",
    "#plt.imshow(Img7, cmap = \"Greys\"), plt.colorbar(), plt.show()"
   ]
  },
  {
   "cell_type": "markdown",
   "metadata": {
    "deletable": true,
    "editable": true
   },
   "source": [
    "## Ezután készítsünk helyet a modellnek\n",
    "\n",
    "`x  ` - kép (egy sorvektorként), bemenet\n",
    "\n",
    "`W  ` - weight (súly), az egyik paraméter\n",
    "\n",
    "`b  ` - bias, a másik paraméter\n",
    "\n",
    "`y  ` - az előrejelzett kimenet\n",
    "\n",
    "`y_ `- a valós kimenet\n",
    "\n",
    "## $y = f(x_i, W, b) = x_i . W + b$"
   ]
  },
  {
   "cell_type": "code",
   "execution_count": 3,
   "metadata": {
    "collapsed": true,
    "deletable": true,
    "editable": true
   },
   "outputs": [],
   "source": [
    "x  = tf.placeholder(tf.float32, [None, 784])\n",
    "W  = tf.Variable(tf.zeros([784, 10]))\n",
    "b  = tf.Variable(tf.zeros([10]))\n",
    "y  = tf.matmul(x, W) + b\n",
    "y_ = tf.placeholder(tf.float32, [None, 10])\n"
   ]
  },
  {
   "cell_type": "markdown",
   "metadata": {
    "deletable": true,
    "editable": true
   },
   "source": [
    "## Definiáljuk a költségfüggvényt (cross entropy ebben az esetben) és a sessiont\n",
    "\n",
    "A számolt és ismert valószínűségek közötti \"távolság\" máshogy fogalmazva \"költség\" (loss) számítására alkalmas, akár lehetne más ilyen távolság számítására alkalmas, \n",
    "mint L1 távolság, L2 távolság, Euklideszi távolság, de NN esetén ez jobban működik. Jelöljök $H_{y'}(y)$-el.\n",
    "\n",
    "\n",
    "## $H_{y'}(y) = -\\sum{Y_i'˙log(Y_i)}$"
   ]
  },
  {
   "cell_type": "code",
   "execution_count": 4,
   "metadata": {
    "collapsed": true,
    "deletable": true,
    "editable": true
   },
   "outputs": [],
   "source": [
    "cross_entropy = tf.reduce_mean(tf.nn.softmax_cross_entropy_with_logits(labels=y_, logits=y))\n",
    "train_step = tf.train.GradientDescentOptimizer(0.5).minimize(cross_entropy)\n",
    "\n",
    "sess = tf.InteractiveSession()\n",
    "tf.global_variables_initializer().run()"
   ]
  },
  {
   "cell_type": "markdown",
   "metadata": {
    "deletable": true,
    "editable": true
   },
   "source": [
    "## Itt következhet a tanítás\n",
    "\n",
    "Végezzük Kötegelt végrehajtásként (batch).\n",
    "A konkrét végrehajtás a `sess.run()` parancs kiadásával lehetséges. "
   ]
  },
  {
   "cell_type": "code",
   "execution_count": 5,
   "metadata": {
    "collapsed": false,
    "deletable": true,
    "editable": true
   },
   "outputs": [
    {
     "name": "stdout",
     "output_type": "stream",
     "text": [
      "Result: 40.75%\n",
      "Result: 89.48%\n",
      "Result: 90.31%\n",
      "Result: 90.74%\n",
      "Result: 90.37%\n",
      "Result: 91.25%\n",
      "Result: 91.16%\n",
      "Result: 91.81%\n",
      "Result: 91.64%\n",
      "Result: 91.15%\n"
     ]
    },
    {
     "data": {
      "image/png": "[encoded data removed]",
      "text/plain": [
       "<matplotlib.figure.Figure at 0x2b03f0d7cf8>"
      ]
     },
     "metadata": {},
     "output_type": "display_data"
    }
   ],
   "source": [
    "for i in range(1000):\n",
    "    batch_xs, batch_ys = mnist.train.next_batch(100)\n",
    "    sess.run(train_step, feed_dict={x: batch_xs, y_: batch_ys})\n",
    "    if (i % 100) == 0:\n",
    "        correct_prediction = tf.equal(tf.argmax(y, 1), tf.argmax(y_, 1))\n",
    "        accuracy = tf.reduce_mean(tf.cast(correct_prediction, tf.float32))\n",
    "        result = sess.run(accuracy, feed_dict={x: mnist.test.images, y_: mnist.test.labels})\n",
    "        print(\"Result: {:.2f}%\".format(result * 100))\n",
    "        plt.bar(i/100, (result * 100), alpha = 0.5, color = 'red')\n",
    "plt.show()"
   ]
  },
  {
   "cell_type": "markdown",
   "metadata": {
    "deletable": true,
    "editable": true
   },
   "source": [
    "## A tanítással végeztünk is, vizsgáljuk meg, mit kaptunk eredményül.\n",
    "\n",
    "A `weight` közvetlenül nem, de a `.eval(sess)` parancs kiadásával elérhetővé válik a seissionon kívül is, klasszikus python adattípusként.\n",
    "\n",
    "Figyeljük meg a 7-es szám súlyvektorát 28 x 28-as formávan."
   ]
  },
  {
   "cell_type": "code",
   "execution_count": 6,
   "metadata": {
    "collapsed": false,
    "deletable": true,
    "editable": true
   },
   "outputs": [
    {
     "data": {
      "image/png": "[encoded data removed]",
      "text/plain": [
       "<matplotlib.figure.Figure at 0x2b03d82be80>"
      ]
     },
     "metadata": {},
     "output_type": "display_data"
    },
    {
     "name": "stdout",
     "output_type": "stream",
     "text": [
      "Max:  0.46\n",
      "Min: -0.67\n"
     ]
    }
   ],
   "source": [
    "Weight7 = W.eval(sess)[:, 7]\n",
    "Weight7 = np.reshape(Weight7, [28, 28])\n",
    "plt.imshow(Weight7)\n",
    "plt.title(\"7-es weight\")\n",
    "plt.colorbar()\n",
    "plt.show()\n",
    "#print(Weight7)\n",
    "print(\"Max: {: 0.2f}\\nMin: {:0.2f}\".format(Weight7.max(), Weight7.min()))"
   ]
  },
  {
   "cell_type": "markdown",
   "metadata": {
    "deletable": true,
    "editable": true
   },
   "source": [
    "A többi szám súlyvektorát megfigyelve láthatóvá válik a mintázat, ami alapján egy-egy számot felismer a NN. "
   ]
  },
  {
   "cell_type": "code",
   "execution_count": 7,
   "metadata": {
    "collapsed": false,
    "deletable": true,
    "editable": true
   },
   "outputs": [
    {
     "data": {
      "image/png": "[encoded data removed]",
      "text/plain": [
       "<matplotlib.figure.Figure at 0x2b03deed550>"
      ]
     },
     "metadata": {},
     "output_type": "display_data"
    },
    {
     "data": {
      "image/png": "[encoded data removed]",
      "text/plain": [
       "<matplotlib.figure.Figure at 0x2b03f0fd0b8>"
      ]
     },
     "metadata": {},
     "output_type": "display_data"
    },
    {
     "data": {
      "image/png": "[encoded data removed]",
      "text/plain": [
       "<matplotlib.figure.Figure at 0x2b03dfa8e10>"
      ]
     },
     "metadata": {},
     "output_type": "display_data"
    }
   ],
   "source": [
    "for i in range(0, 3):\n",
    "    plt.imshow(np.reshape(W.eval(sess)[:, i], [28, 28]), cmap = \"PiYG\",  vmin=-0.8, vmax=0.8)\n",
    "    plt.title(i)\n",
    "    plt.colorbar()\n",
    "    plt.show()"
   ]
  },
  {
   "cell_type": "markdown",
   "metadata": {
    "deletable": true,
    "editable": true
   },
   "source": [
    "## Vegyünk 3 számot (0, 4, 7) és a 7-es weight-el szorozzuk össze\n",
    "Figyeljük meg az eredményeket."
   ]
  },
  {
   "cell_type": "code",
   "execution_count": 8,
   "metadata": {
    "collapsed": false,
    "deletable": true,
    "editable": true
   },
   "outputs": [
    {
     "data": {
      "image/png": "[encoded data removed]",
      "text/plain": [
       "<matplotlib.figure.Figure at 0x2b03f8decf8>"
      ]
     },
     "metadata": {},
     "output_type": "display_data"
    },
    {
     "name": "stdout",
     "output_type": "stream",
     "text": [
      "7es weight megszorozva a különböző számokkat:\n",
      "0-ás: 22.28\n",
      "4-es: 19.38\n",
      "7-es: 37.75\n"
     ]
    }
   ],
   "source": [
    "plt.subplot(141), plt.imshow(Img0, cmap = \"Greys\"), plt.xticks([]), plt.yticks([])\n",
    "plt.subplot(142), plt.imshow(Img4, cmap = \"Greys\"), plt.xticks([]), plt.yticks([])\n",
    "plt.subplot(143), plt.imshow(Img7, cmap = \"Greys\"), plt.xticks([]), plt.yticks([])\n",
    "plt.subplot(144), plt.imshow(Weight7, cmap = \"PiYG\"), plt.xticks([]), plt.yticks([])\n",
    "plt.show()\n",
    "print(\"7es weight megszorozva a különböző számokkat:\")\n",
    "print(\"0-ás: {:.2f}\".format(np.sum(np.matmul(Img0, Weight7)) * -1))\n",
    "print(\"4-es: {:.2f}\".format(np.sum(np.matmul(Img4, Weight7)) * -1))\n",
    "print(\"7-es: {:.2f}\".format(np.sum(np.matmul(Img7, Weight7)) * -1))"
   ]
  }
 ],
 "metadata": {
  "kernelspec": {
   "display_name": "Python 3",
   "language": "python",
   "name": "python3"
  },
  "language_info": {
   "codemirror_mode": {
    "name": "ipython",
    "version": 3
   },
   "file_extension": ".py",
   "mimetype": "text/x-python",
   "name": "python",
   "nbconvert_exporter": "python",
   "pygments_lexer": "ipython3",
   "version": "3.5.2"
  }
 },
 "nbformat": 4,
 "nbformat_minor": 2
}
